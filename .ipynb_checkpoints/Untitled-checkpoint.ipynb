{
 "cells": [
  {
   "cell_type": "code",
   "execution_count": 9,
   "metadata": {},
   "outputs": [
    {
     "name": "stdout",
     "output_type": "stream",
     "text": [
      "chromedriver not found\n"
     ]
    }
   ],
   "source": [
    "from selenium import webdriver\n",
    "from selenium.webdriver.support import ui as UI\n",
    "from selenium.webdriver.support import expected_conditions as EC\n",
    "from selenium.webdriver.common.by import By as BY\n",
    "import urllib.parse as UP\n",
    "import os.path\n",
    "import time\n",
    "\n",
    "def main():\n",
    "    if not os.path.exists('chromedriver'):\n",
    "        print('chromedriver not found')\n",
    "        return\n",
    "    print('chromedriver found')\n",
    "\n",
    "    options = webdriver.ChromeOptions()\n",
    "    # 移除被自動化軟體控制中的訊息列\n",
    "    options.add_argument('--disable-infobars')\n",
    "    # # --kiosk 僅 Windows 可用\n",
    "    # options.add_argument('--kiosk https://www.youtube.com')\n",
    "\n",
    "    browser = webdriver.Chrome(chrome_options=options)\n",
    "    browser.get('https://www.google.com/')\n",
    "\n",
    "    # 等待搜尋欄位出現在網頁上，最多等待 10 秒\n",
    "    search_field = UI.WebDriverWait(browser, 10).until(\n",
    "        # () => Tuple\n",
    "        # [] => List\n",
    "        # {} => Dict\n",
    "        EC.presence_of_element_located((BY.CSS_SELECTOR, 'input#lst-ib'))\n",
    "    )\n",
    "    # 搜尋蔡英文三個字\n",
    "    search_field.send_keys('蔡英文')\n",
    "    search_field.send_keys('\\n')\n",
    "\n",
    "\n",
    "    # 取出所有搜尋紀錄\n",
    "    search_results = UI.WebDriverWait(browser, 10).until(\n",
    "        EC.presence_of_all_elements_located((BY.CSS_SELECTOR, 'div.g'))\n",
    "    )\n",
    "    for search_result in search_results:\n",
    "        # 取出搜尋紀錄的標題\n",
    "        result_title = search_result.find_element_by_css_selector('h3.r')\n",
    "        # 有些搜尋紀錄是廣告或者地圖等，不一定會有標題，所以取標題可能會發生例外\n",
    "        try:\n",
    "            result_title = search_result.find_element_by_css_selector('h3.r')\n",
    "            result_link = result_title.find_element_by_css_selector('a')\n",
    "            print(result_title.text)\n",
    "            print(UP.unquote(result_link.get_attribute('href')))\n",
    "        except:\n",
    "           # 發生例外時可另行處理或直接略過\n",
    "           pass\n",
    "\n",
    "    time.sleep(60)\n",
    "    browser.quit()\n",
    "\n",
    "if __name__ == '__main__':\n",
    "    main()\n"
   ]
  },
  {
   "cell_type": "code",
   "execution_count": null,
   "metadata": {},
   "outputs": [],
   "source": []
  }
 ],
 "metadata": {
  "kernelspec": {
   "display_name": "Python 3",
   "language": "python",
   "name": "python3"
  },
  "language_info": {
   "codemirror_mode": {
    "name": "ipython",
    "version": 3
   },
   "file_extension": ".py",
   "mimetype": "text/x-python",
   "name": "python",
   "nbconvert_exporter": "python",
   "pygments_lexer": "ipython3",
   "version": "3.5.2"
  }
 },
 "nbformat": 4,
 "nbformat_minor": 2
}
