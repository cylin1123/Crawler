{
 "cells": [
  {
   "cell_type": "code",
   "execution_count": null,
   "metadata": {
    "scrolled": true
   },
   "outputs": [],
   "source": [
    "import requests\n",
    "from bs4 import BeautifulSoup\n",
    "import os\n",
    "import urllib\n",
    "\n",
    "\n",
    "with open('E:/Code/python/Crawler/pixnetlist',\"r\") as f:\n",
    "    lines = f.readline()\n",
    "#     print(lines)    \n",
    "    url = lines\n",
    "    folderName = url.replace('.pixnet.net/album/list','').replace('https://','')\n",
    "#     print(folderName)\n",
    "\n",
    "    folderPath = 'E:/PIC/PIXNET/'+folderName\n",
    "\n",
    "    if not os.path.exists(folderPath) :\n",
    "        os.mkdir(folderPath)\n",
    "    \n",
    "    source = requests.get(url)\n",
    "    print(url)\n",
    "    soup = BeautifulSoup(source.text,'html.parser')\n",
    "    soup\n",
    "    content = soup.findAll(\"div\", {\"class\": \"grid-photo\"})\n",
    "    for item in content:\n",
    "        href = item.a\n",
    "        print(href)\n",
    "        if href != None:\n",
    "            href=item.find('a')['href']\n",
    "            if 'album' in href :                \n",
    "                source = requests.get(href)\n",
    "                soup = BeautifulSoup(source.text,'html.parser')\n",
    "                content = soup.findAll(\"a\", {\"class\": \"photolink\"}) \n",
    "                for item in content:\n",
    "                    savePath = folderPath+'/'\n",
    "                    \n",
    "                    if 'pic.pimg.tw' in item.img['src']:\n",
    "                        print(savePath)\n",
    "                        img = item.img['src'].replace('_s.jpg','.jpg')\n",
    "                        print(img)                    \n",
    "                        filename = img.split('/')\n",
    "                        fileName =filename[4].split('-')\n",
    "                        print(fileName[0]+\"-download finish!\")                    \n",
    "                        savePath = savePath+fileName[0]+\".jpg\"\n",
    "                        print(savePath)\n",
    "                        urllib.request.urlretrieve(img,savePath)\n",
    "                    \n",
    "           \n",
    "\n"
   ]
  },
  {
   "cell_type": "code",
   "execution_count": null,
   "metadata": {},
   "outputs": [],
   "source": []
  }
 ],
 "metadata": {
  "kernelspec": {
   "display_name": "Python 3",
   "language": "python",
   "name": "python3"
  },
  "language_info": {
   "codemirror_mode": {
    "name": "ipython",
    "version": 3
   },
   "file_extension": ".py",
   "mimetype": "text/x-python",
   "name": "python",
   "nbconvert_exporter": "python",
   "pygments_lexer": "ipython3",
   "version": "3.8.6"
  }
 },
 "nbformat": 4,
 "nbformat_minor": 2
}
